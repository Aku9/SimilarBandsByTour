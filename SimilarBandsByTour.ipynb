{
 "cells": [
  {
   "cell_type": "markdown",
   "metadata": {},
   "source": [
    "# I. Recommended Musical Artists"
   ]
  },
  {
   "cell_type": "markdown",
   "metadata": {},
   "source": [
    "When using the major music streaming services, there's one particular feature that I've found a bit lacking: the list of related artists on a band's page.\n",
    "\n",
    "Take for example, the band Beartooth. These are their top 10 recommended artists from each of the four biggest music streaming services:\n",
    "\n",
    "| Spotify              | Apple Music          | Amazon Music        | YouTube Music        |\n",
    "| :---:                | :---:                | :---:               | :---:                |\n",
    "| Bad Omens            | Wage War             | Of Mice and Men     | Of Mice and Men      |\n",
    "| I Prevail            | Of Mice and Men      | Memphis May Fire    | A Day To Remember    |\n",
    "| Hands Like Houses    | Ice Nine Kills       | I Prevail           | Crown The Empire     |\n",
    "| Memphis May Fire     | Memphis May Fire     | A Day To Remember   | We Came As Romans    |\n",
    "| The Word Alive       | I Prevail            | Motionless in White | Memphis May Fire     |\n",
    "| Like Moths To Flames | Crown The Empire     | Crown The Empire    | Ice Nine Kills       |\n",
    "| We Came As Romans    | Like Moths To Flames | We Came As Romans   | Wage War             |\n",
    "| Crown The Empire     | The Amity Affliction | Throw The Fight     | While She Sleeps     |\n",
    "| Ice Nine Kills       | Fit for a King       | Asking Alexandria   | Bring Me The Horizon |\n",
    "| Miss May I           | Issues               | Hands Like Houses   | The Word Alive       |"
   ]
  },
  {
   "cell_type": "markdown",
   "metadata": {},
   "source": [
    "Not a bad list of recommendations per se. Beartooth is a metalcore band that trends toward mainstream hard rock. And all of these recommended artists could also fit that description relatively well. But if I go down this list of artists, and look in turn at their recommended artists, I start seeing a lot of the same bands, all from the same genre.\n",
    "\n",
    "By contrast, a couple of years ago, I went to see Beartooth live. That night, at that show, their opener was a group called Knocked Loose. Knocked Loose is a hardcore punk band that trends toward deathcore. And you will find them absolutely nowhere on any streaming service's list of artists similar to Beartooth. But at some point, someone, somewhere, decided that they would go well together on a bill. (And for what it's worth, I agree).\n",
    "\n",
    "So what if instead, I could recommend related artists based on the touring history of the band in question, sorting by the number of shows played together and highlighting the top ten? "
   ]
  },
  {
   "cell_type": "markdown",
   "metadata": {},
   "source": [
    "# II. Using Tour History to Recommend Artists"
   ]
  },
  {
   "cell_type": "markdown",
   "metadata": {},
   "source": [
    "[Setlist.fm](https://www.setlist.fm/) is a community-curated database of the songs that bands play at each of their shows. Importantly, it also contains other metadata like what venues they played at and on what dates. Therefore, for any given band, we can look up their tour history and compile a list of all of the different bands they have played with over the years. And fortunately, Setlist.fm has an API that we can use to crunch this data rather than doing it manually."
   ]
  },
  {
   "cell_type": "markdown",
   "metadata": {},
   "source": [
    "### Setlist.fm API configuration"
   ]
  },
  {
   "cell_type": "markdown",
   "metadata": {},
   "source": [
    "Most websites with APIs feature some form of authentication in order to ensure that the users making requests of their servers are being good internet citizens (i.e. not making too many requests too often). Therefore, to use Setlist.fm's API, we'll need to [make an account and apply for an API KEY.](https://api.setlist.fm/docs/1.0/index.html)"
   ]
  },
  {
   "cell_type": "markdown",
   "metadata": {},
   "source": [
    "Next, for our own security&mdash;so that we're not putting the raw key values directly into the code&mdash;we'll need to set our [API KEY](https://www.setlist.fm/settings/apps) up as an [environment variable](https://docs.conda.io/projects/conda/en/latest/user-guide/tasks/manage-environments.html#windows) which we can call."
   ]
  },
  {
   "cell_type": "markdown",
   "metadata": {},
   "source": [
    "Use the command below to determine your top-level conda environment directory."
   ]
  },
  {
   "cell_type": "code",
   "execution_count": 1,
   "metadata": {},
   "outputs": [],
   "source": [
    "! echo %CONDA_PREFIX%"
   ]
  },
  {
   "cell_type": "markdown",
   "metadata": {},
   "source": [
    "From this location, make two files, one that sets the environment variables when the conda environment is activated and one that unsets them when it is deactivated.\n",
    "```\n",
    "%CONDA_PREFIX%\\etc\\conda\\activate.d\\env_vars.bat\n",
    "%CONDA_PREFIX%\\etc\\conda\\deactivate.d\\env_vars.bat\n",
    "```"
   ]
  },
  {
   "cell_type": "markdown",
   "metadata": {},
   "source": [
    "To the activation script `%CONDA_PREFIX%\\etc\\conda\\activate.d\\env_vars.bat`, add the following line:\n",
    "```\n",
    "set SETLISTFM_API_KEY='YOUR-API-KEY'\n",
    "```\n",
    "And to the deactivation script `%CONDA_PREFIX%\\etc\\conda\\deactivate.d\\env_vars.bat`:\n",
    "```\n",
    "set SETLISTFM_API_KEY= \n",
    "```"
   ]
  },
  {
   "cell_type": "markdown",
   "metadata": {},
   "source": [
    "### Setup"
   ]
  },
  {
   "cell_type": "code",
   "execution_count": 2,
   "metadata": {},
   "outputs": [],
   "source": [
    "from SimilarBandFunctions import *"
   ]
  },
  {
   "cell_type": "code",
   "execution_count": 3,
   "metadata": {},
   "outputs": [],
   "source": [
    "API_KEY_q = os.environ.get(\"SETLISTFM_API_KEY\")\n",
    "API_KEY = API_KEY_q.replace('\\'','')\n",
    "headers = {\n",
    "    'x-api-key': API_KEY,\n",
    "    'Accept': 'application/json'\n",
    "}"
   ]
  },
  {
   "cell_type": "markdown",
   "metadata": {},
   "source": [
    "### Download Artist Touring Data"
   ]
  },
  {
   "cell_type": "code",
   "execution_count": 4,
   "metadata": {},
   "outputs": [],
   "source": [
    "Beartooth = Artist('Beartooth','6vwjIs0tbIiseJMR3pqwiL','98a1e0ab-35fa-40dd-b62c-9fda46fdb061')"
   ]
  },
  {
   "cell_type": "code",
   "execution_count": 5,
   "metadata": {},
   "outputs": [],
   "source": [
    "tour_mates = FindTourMates(Beartooth.musicbrainz_id, headers)\n",
    "tour_mates.set_band_cache_file('band_cache.txt')\n",
    "tour_mates.run()"
   ]
  },
  {
   "cell_type": "markdown",
   "metadata": {},
   "source": [
    "### Beartooth's top 10 artists based on tour history"
   ]
  },
  {
   "cell_type": "code",
   "execution_count": 6,
   "metadata": {},
   "outputs": [
    {
     "name": "stdout",
     "output_type": "stream",
     "text": [
      "Beartooth\n",
      "                                     mbid               name  count\n",
      "14   5f4ad442-76d1-4cd3-8677-3cff7be4c8d4  Hands Like Houses    124\n",
      "560  681b5ab2-b7dd-4dff-85e9-1e84503ad36a   Memphis May Fire     90\n",
      "477  d89de379-665d-425c-b2e9-41b95d1edb36        Silverstein     89\n",
      "69   6eaab7b4-f2cb-4c80-9b36-7e7d5c2fa8c5     Fit for a King     84\n",
      "537  c41dd59f-d805-41df-9e0e-83ec0f9f468e          Neck Deep     80\n",
      "294  d164d8e4-f505-4ed8-9345-c0bd1fa67ccc              Sylar     80\n",
      "534  aafa70a4-2f06-4975-935e-b283fc87de7e       Blessthefall     78\n",
      "22   1921c28c-ec61-4725-8e35-38dd656f7923          I Prevail     69\n",
      "530  f0b1619b-6b76-4633-9a83-85b11a17ad98             Attila     68\n",
      "503  8ed919fb-eaee-45a1-ba99-b3ede9ca5f1d    Pierce the Veil     65\n"
     ]
    }
   ],
   "source": [
    "tourmates_df = pd.read_json(tour_mates.band_database[Beartooth.musicbrainz_id]['similarBands'])\n",
    "tourmates_df.sort_values('count', inplace = True, ascending = False)\n",
    "print(Beartooth.name)\n",
    "print(tourmates_df[0:10])"
   ]
  },
  {
   "cell_type": "markdown",
   "metadata": {},
   "source": [
    "# III. Quantifying Artist and Genre Diversity"
   ]
  },
  {
   "cell_type": "markdown",
   "metadata": {},
   "source": [
    "Now that we have a list of recommended bands based on Beartooth's touring history, we want a way to quantitatively compare it to the lists given by the streaming services. Of the four largest streaming services, Spotify is the only one that has a freely available API, so that's the one we'll use moving forward. Since Spotify's recommended artists feature seems to need more variety, the quantitative metrics of interest will be artist diversity and genre diversity."
   ]
  },
  {
   "cell_type": "markdown",
   "metadata": {},
   "source": [
    "## Spotify API Setup"
   ]
  },
  {
   "cell_type": "markdown",
   "metadata": {},
   "source": [
    "To make API requests of Spotify, we'll need to go through a similar setup process as we did for Setlist.fm. The first thing we'll need to do is create a [Spotify developer account](https://developer.spotify.com/dashboard/).\n",
    "\n",
    "Spotify's API uses two authentication IDs, one for the individual user, and one for the app that is being used to make the requests. We will therefore need to create a spotify \"app\" that will service our API requests. From the Spotify developer dashboard, click on \"Create An App\" and give it any name and description you like.\n",
    "From here, you will be taken to your app's page, where you can find the Client ID and Client Secret. These are the two authentication keys you'll need to make requests to Spotify."
   ]
  },
  {
   "cell_type": "markdown",
   "metadata": {},
   "source": [
    "To the same conda environment activation script from before (`%CONDA_PREFIX%\\etc\\conda\\activate.d\\env_vars.bat`), add the following lines:\n",
    "\n",
    "```\n",
    "set SPOTIFY_CLIENT_ID='YOUR-SPOTIFY-CLIENT-ID'\n",
    "set SPOTIFY_SECRET='YOUR-SPOTIFY-SECRET'\n",
    "```\n",
    "And to the deactivation script (`%CONDA_PREFIX%\\etc\\conda\\deactivate.d\\env_vars.bat`):\n",
    "```\n",
    "set SPOTIFY_CLIENT_ID=\n",
    "set SPOTIFY_SECRET=\n",
    "```"
   ]
  },
  {
   "cell_type": "markdown",
   "metadata": {},
   "source": [
    "Once you've set up your keys as environment variables, you can load them into the session:"
   ]
  },
  {
   "cell_type": "code",
   "execution_count": 7,
   "metadata": {},
   "outputs": [],
   "source": [
    "SPOTIFY_CLIENT_ID_q = os.environ.get(\"SPOTIFY_CLIENT_ID\")\n",
    "SPOTIFY_CLIENT_ID = SPOTIFY_CLIENT_ID_q.replace('\\'','')\n",
    "\n",
    "SPOTIFY_SECRET_q = os.environ.get(\"SPOTIFY_SECRET\")\n",
    "SPOTIFY_SECRET = SPOTIFY_SECRET_q.replace('\\'','')"
   ]
  },
  {
   "cell_type": "markdown",
   "metadata": {},
   "source": [
    "To do the actual legwork of interfacing with Spotify and making requests for data, we'll leverage an existing library called spotipy."
   ]
  },
  {
   "cell_type": "code",
   "execution_count": 8,
   "metadata": {},
   "outputs": [],
   "source": [
    "import spotipy\n",
    "from spotipy.oauth2 import SpotifyClientCredentials\n",
    "\n",
    "cid = SPOTIFY_CLIENT_ID\n",
    "secret = SPOTIFY_SECRET\n",
    "\n",
    "client_credentials_manager = SpotifyClientCredentials(client_id=cid, client_secret=secret)\n",
    "sp = spotipy.Spotify(client_credentials_manager=client_credentials_manager)"
   ]
  },
  {
   "cell_type": "markdown",
   "metadata": {},
   "source": [
    "### Pairing Tour Artists with their Spotify IDs\n",
    "Setlist.fm and Spotify both have a unique ID code for each artist. In order to compare recommended artists from one to the other, we need to be able to cross-reference these IDs."
   ]
  },
  {
   "cell_type": "code",
   "execution_count": 9,
   "metadata": {},
   "outputs": [],
   "source": [
    "artistID_cross_reference = load_artists()"
   ]
  },
  {
   "cell_type": "markdown",
   "metadata": {},
   "source": [
    "### Artist Diversity"
   ]
  },
  {
   "cell_type": "markdown",
   "metadata": {},
   "source": [
    "To quantify artist diversity in a recommended list of 10 artists (either from tour history or directly from Spotify), we can use Spotify's API to check how many artists are provided when asking for a second round of recommendations.\n",
    "\n",
    "So if the primary artist is Beartooth, we can ask Spotify for the top ten recommended artists for each artist on Beartooth's top ten list. Because some of the bands recommended will be repeats, this will make a good measure of artist diversity. We can apply this measure to lists of recommended bands both directly from Spotify and based on touring history."
   ]
  },
  {
   "cell_type": "code",
   "execution_count": 10,
   "metadata": {},
   "outputs": [],
   "source": [
    "def artist_diversity(artist_uri_list):\n",
    "    spotify_related_artists = set()\n",
    "    for i in range(0,10):\n",
    "        artist1 = sp.artist(artist_uri_list[i])\n",
    "        spotify_related_artists.add(artist1['name'])\n",
    "        related_artists_2 = sp.artist_related_artists(artist_uri_list[i])\n",
    "        for j in range(0,10):\n",
    "            spotify_related_artists.add(related_artists_2['artists'][j]['name'])\n",
    "    artist_diversity = len(spotify_related_artists)\n",
    "    return(artist_diversity)"
   ]
  },
  {
   "cell_type": "markdown",
   "metadata": {},
   "source": [
    "#### Spotify Artist Diversity"
   ]
  },
  {
   "cell_type": "code",
   "execution_count": 11,
   "metadata": {},
   "outputs": [
    {
     "name": "stdout",
     "output_type": "stream",
     "text": [
      "48\n"
     ]
    }
   ],
   "source": [
    "Beartooth_related_artists = sp.artist_related_artists(Beartooth.spotify_id)\n",
    "related_uris = []\n",
    "for i in range(0,10):\n",
    "    related_uris.append(Beartooth_related_artists['artists'][i]['id'])\n",
    "Beartooth.spotify_artist_diversity = artist_diversity(related_uris)\n",
    "print(Beartooth.spotify_artist_diversity)"
   ]
  },
  {
   "cell_type": "markdown",
   "metadata": {},
   "source": [
    "#### Touring Artist Diversity"
   ]
  },
  {
   "cell_type": "code",
   "execution_count": 12,
   "metadata": {},
   "outputs": [
    {
     "name": "stdout",
     "output_type": "stream",
     "text": [
      "85\n"
     ]
    }
   ],
   "source": [
    "Beartooth_uris = tour_mates.spotify_uris_from_database(Beartooth.musicbrainz_id,artistID_cross_reference)\n",
    "Beartooth.touring_artist_diversity = artist_diversity(Beartooth_uris)\n",
    "print(Beartooth.touring_artist_diversity)"
   ]
  },
  {
   "cell_type": "markdown",
   "metadata": {},
   "source": [
    "### Genre Diversity"
   ]
  },
  {
   "cell_type": "markdown",
   "metadata": {},
   "source": [
    "We can also take a look at how this approach impacts genre diversity. Spotify lists multiple genres for each band, and a different number for each. We want all of a band's genres to be represented, but we don't want to give a band more credit for having many increasingly niche genres on their profile. Therefore, we'll give each band a single genre point to be divided up by however many genres they have. We'll also cap the amount each genre can receive at maximum of one point to place the emphasis on diversity. Adding up these points for a list of 10 recommended artists gives us a score for genre diversity."
   ]
  },
  {
   "cell_type": "code",
   "execution_count": 13,
   "metadata": {},
   "outputs": [],
   "source": [
    "def genre_diversity(spotify_artist_list):\n",
    "    genre_dict = {}\n",
    "    for i in range(0,len(spotify_artist_list)):\n",
    "        genre_list = spotify_artist_list[i]['genres']\n",
    "        genre_count = len(genre_list)\n",
    "        for genre in genre_list:\n",
    "            genre_dict[genre] = genre_dict.get(genre, 0) + 1/genre_count # Each band only gets one point worth of genre representation\n",
    "    genre_score_list = genre_dict.values()\n",
    "    genre_score_list2 = [] \n",
    "    for score in genre_score_list:\n",
    "        genre_score_list2.append(min(1,score)) # Genres can only be represented a maximum of once\n",
    "    genre_score = sum(genre_score_list2)\n",
    "    return(genre_dict,genre_score)"
   ]
  },
  {
   "cell_type": "markdown",
   "metadata": {},
   "source": [
    "#### Spotify Genre Diversity"
   ]
  },
  {
   "cell_type": "code",
   "execution_count": 14,
   "metadata": {},
   "outputs": [
    {
     "name": "stdout",
     "output_type": "stream",
     "text": [
      "7.4833333333333325\n"
     ]
    }
   ],
   "source": [
    "result = sp.artist_related_artists(Beartooth.spotify_id)\n",
    "spotify_artist_list = result['artists'][0:10]\n",
    "spotify_genre_dict,spotify_genre_score = genre_diversity(spotify_artist_list)\n",
    "spotify_genre_score\n",
    "Beartooth.spotify_genre_diversity = spotify_genre_score\n",
    "print(Beartooth.spotify_genre_diversity)"
   ]
  },
  {
   "cell_type": "markdown",
   "metadata": {},
   "source": [
    "#### Touring Genre Diversity"
   ]
  },
  {
   "cell_type": "code",
   "execution_count": 15,
   "metadata": {},
   "outputs": [
    {
     "name": "stdout",
     "output_type": "stream",
     "text": [
      "8.96190476190476\n"
     ]
    }
   ],
   "source": [
    "tour_artist_list= []\n",
    "for band in Beartooth_uris:\n",
    "    tour_artist_list.append(sp.artist(band))\n",
    "tour_genres, tour_genre_score = genre_diversity(tour_artist_list)\n",
    "tour_genre_score\n",
    "Beartooth.touring_genre_diversity = tour_genre_score\n",
    "print(Beartooth.touring_genre_diversity)"
   ]
  },
  {
   "cell_type": "markdown",
   "metadata": {},
   "source": [
    "#### Beartooth Metrics"
   ]
  },
  {
   "cell_type": "code",
   "execution_count": 16,
   "metadata": {},
   "outputs": [
    {
     "data": {
      "text/html": [
       "<div>\n",
       "<style scoped>\n",
       "    .dataframe tbody tr th:only-of-type {\n",
       "        vertical-align: middle;\n",
       "    }\n",
       "\n",
       "    .dataframe tbody tr th {\n",
       "        vertical-align: top;\n",
       "    }\n",
       "\n",
       "    .dataframe thead th {\n",
       "        text-align: right;\n",
       "    }\n",
       "</style>\n",
       "<table border=\"1\" class=\"dataframe\">\n",
       "  <thead>\n",
       "    <tr style=\"text-align: right;\">\n",
       "      <th></th>\n",
       "      <th>Spotify Artist Diversity</th>\n",
       "      <th>Touring Artist Diversity</th>\n",
       "      <th>Spotify Genre Diversity</th>\n",
       "      <th>Touring Genre Diversity</th>\n",
       "    </tr>\n",
       "  </thead>\n",
       "  <tbody>\n",
       "    <tr>\n",
       "      <th>Beartooth</th>\n",
       "      <td>48.0</td>\n",
       "      <td>85.0</td>\n",
       "      <td>7.5</td>\n",
       "      <td>9.0</td>\n",
       "    </tr>\n",
       "  </tbody>\n",
       "</table>\n",
       "</div>"
      ],
      "text/plain": [
       "          Spotify Artist Diversity Touring Artist Diversity  \\\n",
       "Beartooth                     48.0                     85.0   \n",
       "\n",
       "          Spotify Genre Diversity Touring Genre Diversity  \n",
       "Beartooth                     7.5                     9.0  "
      ]
     },
     "execution_count": 16,
     "metadata": {},
     "output_type": "execute_result"
    }
   ],
   "source": [
    "pd.options.display.float_format = \"{:,.1f}\".format\n",
    "\n",
    "columns = ['Spotify Artist Diversity',\n",
    "           'Touring Artist Diversity',\n",
    "           'Spotify Genre Diversity',\n",
    "           'Touring Genre Diversity']\n",
    "bands = ['Beartooth']\n",
    "df = pd.DataFrame(columns=columns,\n",
    "                index=bands)\n",
    "\n",
    "current_artist = Beartooth\n",
    "df.loc[current_artist.name] = pd.Series({'Spotify Artist Diversity': current_artist.spotify_artist_diversity,\n",
    "           'Touring Artist Diversity': current_artist.touring_artist_diversity,\n",
    "           'Spotify Genre Diversity': current_artist.spotify_genre_diversity,\n",
    "           'Touring Genre Diversity': current_artist.touring_genre_diversity})\n",
    "df"
   ]
  },
  {
   "cell_type": "markdown",
   "metadata": {},
   "source": [
    "# IV. Validation with Additional Artists"
   ]
  },
  {
   "cell_type": "markdown",
   "metadata": {},
   "source": [
    "Recommending artists based on touring history worked well for Beartooth. It increased both the metrics of artist and genre diversity. The question now becomes whether the method is generalizable. So let's try it again for 10 different artists adding some variety to era, popularity, and genre (while still staying roughly within the realm of rock music)."
   ]
  },
  {
   "cell_type": "code",
   "execution_count": 17,
   "metadata": {},
   "outputs": [],
   "source": [
    "PapaRoach       = Artist('Papa Roach'       ,'4RddZ3iHvSpGV4dvATac9X','c5eb9407-caeb-4303-b383-6929aa94021c')\n",
    "Bearings        = Artist('Bearings'         ,'0qpDBxRgLp6g0k2esJlUDn','5a19c7e6-b435-45f4-b1de-2db9b3271cc5')\n",
    "KnockedLoose    = Artist('Knocked Loose'    ,'4qrHkx5cgWIslciLXUMrYw','9ca10859-49e2-44e3-b3d6-04c535207bc2')\n",
    "Chevelle        = Artist('Chevelle'         ,'56dO9zeHKuU5Gvfc2kxHNw','8456e9f7-debf-4579-a86c-33a325a35d2d')\n",
    "MotleyCrue      = Artist('Motley Crue'      ,'0cc6vw3VN8YlIcvr1v7tBL','26f07661-e115-471d-a930-206f5c89d17c')\n",
    "Periphery       = Artist('Periphery'        ,'6d24kC5fxHFOSEAmjQPPhc','a0cef17a-4574-44f4-9f97-fd068615dac6')\n",
    "Counterparts    = Artist('Counterparts'     ,'5LyRnL0rysObxDRxzSfV1z','4b0dd5e7-c795-42bd-8311-bc9f71fabd0a')\n",
    "HollywoodUndead = Artist('Hollywood Undead' ,'0CEFCo8288kQU7mJi25s6E','321fdfbb-426b-43f7-8295-fa9aca6348d9')\n",
    "MachineGunKelly = Artist('Machine Gun Kelly','6TIYQ3jFPwQSRmorSezPxX','f6af669a-56ea-448a-a044-de76181ada33')\n",
    "Crosses         = Artist('Crosses'          ,'3gPZCcrc8KG2RuVl3rtbQ2','7a10215e-b32f-4b77-b9cc-d90531a3968f')\n",
    "\n",
    "artist_list = []\n",
    "artist_list.append(PapaRoach)\n",
    "artist_list.append(Bearings)\n",
    "artist_list.append(KnockedLoose)\n",
    "artist_list.append(Chevelle)\n",
    "artist_list.append(MotleyCrue)\n",
    "artist_list.append(Periphery)\n",
    "artist_list.append(Counterparts)\n",
    "artist_list.append(HollywoodUndead)\n",
    "artist_list.append(MachineGunKelly)\n",
    "artist_list.append(Crosses)"
   ]
  },
  {
   "cell_type": "markdown",
   "metadata": {},
   "source": [
    "## Download Data"
   ]
  },
  {
   "cell_type": "code",
   "execution_count": 18,
   "metadata": {},
   "outputs": [
    {
     "name": "stdout",
     "output_type": "stream",
     "text": [
      "c5eb9407-caeb-4303-b383-6929aa94021c\n",
      "5a19c7e6-b435-45f4-b1de-2db9b3271cc5\n",
      "9ca10859-49e2-44e3-b3d6-04c535207bc2\n",
      "8456e9f7-debf-4579-a86c-33a325a35d2d\n",
      "26f07661-e115-471d-a930-206f5c89d17c\n",
      "a0cef17a-4574-44f4-9f97-fd068615dac6\n",
      "4b0dd5e7-c795-42bd-8311-bc9f71fabd0a\n",
      "321fdfbb-426b-43f7-8295-fa9aca6348d9\n",
      "f6af669a-56ea-448a-a044-de76181ada33\n",
      "7a10215e-b32f-4b77-b9cc-d90531a3968f\n"
     ]
    }
   ],
   "source": [
    "related_artist_uris = []\n",
    "for a in range(0,len(artist_list)):\n",
    "    artist_ID = artist_list[a].musicbrainz_id\n",
    "    tour_mates = FindTourMates(artist_ID, headers)\n",
    "    print(tour_mates.primary_band_mbid)\n",
    "    tour_mates.set_band_cache_file('band_cache.txt')\n",
    "    tour_mates.run()\n",
    "    artist_ID = artist_list[a].musicbrainz_id\n",
    "    spotify_uris = tour_mates.spotify_uris_from_database(artist_ID,artistID_cross_reference)\n",
    "    related_artist_uris.append(spotify_uris)"
   ]
  },
  {
   "cell_type": "markdown",
   "metadata": {},
   "source": [
    "### Display Top Ten Recommended Artists for each Artist"
   ]
  },
  {
   "cell_type": "code",
   "execution_count": 19,
   "metadata": {},
   "outputs": [
    {
     "name": "stdout",
     "output_type": "stream",
     "text": [
      "Papa Roach\n",
      "                                      mbid               name  count\n",
      "429   822e92ef-72ea-42e0-9af1-b987816b487a         Buckcherry    150\n",
      "24    adc0f033-95c2-4e0b-87bc-c23ed3f26ce6          Shinedown     95\n",
      "1486  19516266-e5d9-4774-b749-812bb76a6559         (həd) p.e.     93\n",
      "176   29266b3d-b5ae-4d09-b721-326246adf68f     In This Moment     86\n",
      "25    9d2fde91-4633-430d-87f0-2b9bbb7fa451  Asking Alexandria     80\n",
      "631   f10177e4-b7f7-4e63-92b6-c805c6cc54d6           Nonpoint     79\n",
      "175   4bb4e4e4-5f66-4509-98af-62dbb90c45c5          Disturbed     70\n",
      "71    a466c2a2-6517-42fb-a160-1087c3bafd9f           Slipknot     65\n",
      "443   fbcd7b29-455f-49e6-9c4f-8249d20a055e            Seether     64\n",
      "1030  39b22a9e-59dd-412b-ac3c-0725c807c72b             Hinder     62\n",
      "\n",
      "\n",
      "Bearings\n",
      "                                    mbid              name  count\n",
      "1   687823ac-a3b3-495c-bb20-68bce137c77d       Sleep On It     18\n",
      "0   a4dbddc8-a08d-424e-b0b7-69b423681190  Between You & Me     12\n",
      "11  e2e9df76-a950-4b8b-b3d1-981624470657      State Champs     12\n",
      "86  70599552-0c12-4cbf-a793-8033cbb4efc0          Homesafe     11\n",
      "15  325afbbe-68eb-4938-9186-f6869e64c7b4           Belmont     10\n",
      "78  b697ecde-c617-4e7a-9032-41e2235d6db6      Like Pacific      8\n",
      "13  38fab396-e3a8-4538-ba80-dd5eedf40e39         Grayscale      8\n",
      "14  e00e1673-2e60-4e5d-81af-231c2a860d52       Rich People      7\n",
      "75  823ed9ad-3412-47dc-9caf-b7be02121fcf        Set It Off      6\n",
      "76  159495a4-0f57-4739-b34c-f16bb770e191            VUKOVI      6\n",
      "\n",
      "\n",
      "Knocked Loose\n",
      "                                     mbid                name  count\n",
      "79   07ef6bdd-20c8-4f2b-ac87-463f65b90768  Stick to Your Guns     86\n",
      "248  08bebce9-33fa-4ae9-9992-4e5d137d655b   The Acacia Strain     83\n",
      "156  4b0dd5e7-c795-42bd-8311-bc9f71fabd0a        Counterparts     73\n",
      "260  ef90f210-f136-4386-ab37-8c00d04eeace    Every Time I Die     72\n",
      "83   98a1e0ab-35fa-40dd-b62c-9fda46fdb061           Beartooth     62\n",
      "589  498e46e2-59c9-4320-8ccf-12c67a29b125              Expire     61\n",
      "261  d164d8e4-f505-4ed8-9345-c0bd1fa67ccc               Sylar     56\n",
      "157  cd584ea0-0fc5-412b-8598-0244c4025af6        Boston Manor     51\n",
      "226  70d9fdd1-7c7e-4dfd-be7a-8f606a71c9a2          Harm’s Way     48\n",
      "180  d89de379-665d-425c-b2e9-41b95d1edb36         Silverstein     46\n",
      "\n",
      "\n",
      "Chevelle\n",
      "                                     mbid               name  count\n",
      "236  4bb4e4e4-5f66-4509-98af-62dbb90c45c5          Disturbed    105\n",
      "528  05851234-4e8f-4cc8-b682-a55c23277d9c            Taproot     85\n",
      "248  52b9e109-44a0-45eb-a197-226c4abab232          Sevendust     75\n",
      "37   fabb37f8-eb2a-4cc1-a72a-b56935bbb72d   Three Days Grace     69\n",
      "326  eaed2193-e026-493b-ac57-113360407b06          Halestorm     69\n",
      "11   ac865b2e-bba8-4f5a-8756-dd40d5e39f46               Korn     64\n",
      "498  4ca783b7-5bf7-4348-b494-46680660050f         Stone Sour     61\n",
      "38   854a1807-025b-42a8-ba8c-2a39717f1d25  Breaking Benjamin     60\n",
      "143  adc0f033-95c2-4e0b-87bc-c23ed3f26ce6          Shinedown     57\n",
      "756  8aa5b65a-5b3c-4029-92bf-47a544356934      Ozzy Osbourne     56\n",
      "\n",
      "\n",
      "Motley Crue\n",
      "                                     mbid           name  count\n",
      "1    4d7928cd-7ed2-4282-8c29-c0c9f966f1bd   Alice Cooper    143\n",
      "167  5dedf5cf-a598-4408-9556-3bf3f149f3ba     Whitesnake     80\n",
      "193  8aa5b65a-5b3c-4029-92bf-47a544356934  Ozzy Osbourne     79\n",
      "19   63e164b9-f06a-47f5-9ebe-6887ddd4539c    The Raskins     67\n",
      "33   e1f1e33e-2e4c-4d43-b91b-7064068d3283           KISS     57\n",
      "169  822e92ef-72ea-42e0-9af1-b987816b487a     Buckcherry     56\n",
      "526  c3cceeed-3332-4cf0-8c4c-bbde425147b6      Scorpions     54\n",
      "495  9aa0d535-3efe-468c-afda-43bd17d44641        Warrant     50\n",
      "755  05504d00-67ea-40bd-ae98-0a96d0d42d6a        Waysted     50\n",
      "183  c79c43d4-cbed-4373-89ce-6560f62eb7d8         Poison     50\n",
      "\n",
      "\n",
      "Periphery\n",
      "                                     mbid                       name  count\n",
      "20   32e740e5-95ea-42e3-b5e2-29f6630488e4               Veil of Maya     68\n",
      "7    5c2d2520-950b-4c78-84fc-78a9328172a3         Animals as Leaders     66\n",
      "223  1870fb43-50f1-4660-a879-bb596d1519b6  Between the Buried and Me     55\n",
      "273  132ca1ea-0891-420f-b129-50247bb144b5             Born of Osiris     50\n",
      "66   a02b1a45-271c-4bc3-9d82-68bb896cb5fd                 Norma Jean     46\n",
      "64   a630b133-bcc4-4796-9a0e-685c68b1e6ab          The Contortionist     46\n",
      "520  7677be48-16e9-4c84-9365-a69dd6f2df55                     Kittie     34\n",
      "5    1c5b9bd6-76e8-4fe7-a6df-3bc0b5a452cc        Motionless in White     32\n",
      "348  b0acce58-e847-4c9e-bd09-a204b965e74a               Chelsea Grin     32\n",
      "166  b00cb756-0259-4a50-bbcb-ad22186c5518     Devin Townsend Project     31\n",
      "\n",
      "\n",
      "Counterparts\n",
      "                                     mbid                name  count\n",
      "14   07ef6bdd-20c8-4f2b-ac87-463f65b90768  Stick to Your Guns    128\n",
      "44   956f5b24-6734-4d4d-94f2-411113485736   Being as an Ocean    109\n",
      "345  66b2f925-e924-4cde-b09f-27ec21d29564           Hundredth    104\n",
      "20   9ca10859-49e2-44e3-b3d6-04c535207bc2       Knocked Loose     82\n",
      "322  aafa70a4-2f06-4975-935e-b283fc87de7e        Blessthefall     82\n",
      "260  ef90f210-f136-4386-ab37-8c00d04eeace    Every Time I Die     69\n",
      "318  08bebce9-33fa-4ae9-9992-4e5d137d655b   The Acacia Strain     69\n",
      "355  051f5167-0c74-4339-87b5-5e84f5a7469d           Movements     65\n",
      "404  498e46e2-59c9-4320-8ccf-12c67a29b125              Expire     60\n",
      "296  05dffdbe-dc6e-4c8d-a075-50a09c4cb45c          Architects     57\n",
      "\n",
      "\n",
      "Hollywood Undead\n",
      "                                     mbid               name  count\n",
      "280  e43b7e0e-0927-4a66-8cd4-8a6bfb162bd8     Butcher Babies     53\n",
      "775  b9ca7096-68de-455f-8a36-1f1ebb2abf2a    Escape the Fate     45\n",
      "26   e20f2448-8e4e-4625-8881-9da8dbe9df24            Demrick     43\n",
      "485  5cf3bae7-166f-44c2-b48f-63ddea9d4fb2   Crown the Empire     40\n",
      "165  24e1b53c-3085-4581-8472-0b0088d2508c  Avenged Sevenfold     38\n",
      "484  1921c28c-ec61-4725-8e35-38dd656f7923          I Prevail     30\n",
      "0    c5eb9407-caeb-4303-b383-6929aa94021c         Papa Roach     28\n",
      "432  f0b1619b-6b76-4633-9a83-85b11a17ad98             Attila     27\n",
      "95   9d2fde91-4633-430d-87f0-2b9bbb7fa451  Asking Alexandria     26\n",
      "470  17e137fb-59e5-4fd7-af48-afc34995396c             Atreyu     26\n",
      "\n",
      "\n",
      "Machine Gun Kelly\n",
      "                                     mbid                  name  count\n",
      "233  516cef4d-0718-4007-9939-f9b38af3f784          Fall Out Boy     31\n",
      "833  8f9d6bb2-dba4-4cca-9967-cc02b9f4820c           Limp Bizkit     16\n",
      "89   800760de-bdf8-43a2-8fe0-44a2401a5515            Young Thug     10\n",
      "264  e2e9df76-a950-4b8b-b3d1-981624470657          State Champs     10\n",
      "463  3267d5a3-c72c-4c3b-bafe-ec8a569c0b74  Sleeping With Sirens      6\n",
      "246  98a1e0ab-35fa-40dd-b62c-9fda46fdb061             Beartooth      5\n",
      "661  55e6074f-ef78-4ec3-8fff-bd1b8cc8c14a           Niall Horan      5\n",
      "42   87ae83df-6173-40cc-a0f2-bad543faa6aa                DaBaby      5\n",
      "834  00b1ccfb-0e26-4b8d-9124-f1c88370149f         BLVCK CEILING      5\n",
      "611  f2eef649-a6d5-4114-afba-e50ab26254d2                Sum 41      5\n",
      "\n",
      "\n",
      "Crosses\n",
      "                                     mbid                       name  count\n",
      "9    1c3919b2-43ca-4a4a-935d-9d50135ec0ef                        AFI     10\n",
      "146  69421e11-e4c3-4854-951b-ceab4972e38e              Alkaline Trio      5\n",
      "150  5026623c-28bf-46ab-a7b5-aed151282b01                The Porkers      5\n",
      "135  1bc41dff-5397-4c53-bb50-469d2c277197  The Dillinger Escape Plan      5\n",
      "134  9ac8bee0-1c34-46c6-9eee-ee1eb96df282               Real Friends      5\n",
      "133  9d2fde91-4633-430d-87f0-2b9bbb7fa451          Asking Alexandria      5\n",
      "132  6fbd58c3-e9b3-4419-a197-0a0f22baed94           The Ghost Inside      5\n",
      "131  91e2e08f-abd7-44d6-9a84-b8a4afa8a265                   Ill Niño      5\n",
      "161  bc5e2ad6-0a4a-4d90-b911-e9a7e6861727                   Mastodon      5\n",
      "124  c2c4d56a-d599-4a18-bd2f-ae644e2198cc          Heaven’s Basement      5\n",
      "\n",
      "\n"
     ]
    }
   ],
   "source": [
    "for a in range(0,len(artist_list)):\n",
    "    tour_mates_df = pd.read_json(tour_mates.band_database[artist_list[a].musicbrainz_id]['similarBands'])\n",
    "    tour_mates_df.sort_values('count', inplace = True, ascending = False)\n",
    "    print(artist_list[a].name)\n",
    "    print(tour_mates_df[0:10])\n",
    "    print('\\n')"
   ]
  },
  {
   "cell_type": "markdown",
   "metadata": {},
   "source": [
    "### Spotify Artist Diversity"
   ]
  },
  {
   "cell_type": "code",
   "execution_count": 20,
   "metadata": {},
   "outputs": [],
   "source": [
    "for a in range(0,len(artist_list)):\n",
    "    current_artist = artist_list[a]\n",
    "    current_artist_sp_id = current_artist.spotify_id\n",
    "    related_artists_1 = sp.artist_related_artists(current_artist_sp_id)\n",
    "    related_uris = []\n",
    "    for i in range(0,10):\n",
    "        related_uris.append(related_artists_1['artists'][i]['id'])\n",
    "    artist_list[a].spotify_artist_diversity = artist_diversity(related_uris)"
   ]
  },
  {
   "cell_type": "markdown",
   "metadata": {},
   "source": [
    "### Touring Artist Diversity"
   ]
  },
  {
   "cell_type": "code",
   "execution_count": 21,
   "metadata": {},
   "outputs": [],
   "source": [
    "for a in range(0,len(artist_list)):\n",
    "    if a < len(related_artist_uris):\n",
    "        spotify_uris = related_artist_uris[a]\n",
    "        artist_list[a].touring_artist_diversity = artist_diversity(spotify_uris)"
   ]
  },
  {
   "cell_type": "markdown",
   "metadata": {},
   "source": [
    "### Spotify Genre Diversity"
   ]
  },
  {
   "cell_type": "code",
   "execution_count": 22,
   "metadata": {},
   "outputs": [],
   "source": [
    "for a in range(0,len(artist_list)):\n",
    "    result = sp.artist_related_artists(artist_list[a].spotify_id)\n",
    "    spotify_artist_list = result['artists'][0:10]\n",
    "    spotify_genre_dict,spotify_genre_score = genre_diversity(spotify_artist_list)\n",
    "    artist_list[a].spotify_genre_diversity = spotify_genre_score"
   ]
  },
  {
   "cell_type": "markdown",
   "metadata": {},
   "source": [
    "### Touring Genre Diversity"
   ]
  },
  {
   "cell_type": "code",
   "execution_count": 23,
   "metadata": {},
   "outputs": [],
   "source": [
    "for a in range(0,len(artist_list)):\n",
    "    if a < len(related_artist_uris):\n",
    "        spotify_uris = related_artist_uris[a]\n",
    "        tour_artist_list= []\n",
    "        for band in spotify_uris:\n",
    "            tour_artist_list.append(sp.artist(band))\n",
    "        tour_genres, tour_genre_score = genre_diversity(tour_artist_list)\n",
    "        artist_list[a].touring_genre_diversity = tour_genre_score"
   ]
  },
  {
   "cell_type": "markdown",
   "metadata": {},
   "source": [
    "## Display Artist/Genre Diversity Metrics"
   ]
  },
  {
   "cell_type": "code",
   "execution_count": 24,
   "metadata": {},
   "outputs": [],
   "source": [
    "columns = ['Spotify Artist Diversity',\n",
    "           'Touring Artist Diversity',\n",
    "           'Spotify Genre Diversity',\n",
    "           'Touring Genre Diversity']\n",
    "bands = ['Papa Roach',\n",
    "         'Bearings',\n",
    "         'Knocked Loose',\n",
    "         'Chevelle',\n",
    "         'Motley Crue',\n",
    "         'Periphery',\n",
    "         'Counterparts',\n",
    "         'Hollywood Undead',\n",
    "         'Machine Gun Kelly',\n",
    "         'Crosses']\n",
    "df = pd.DataFrame(columns=columns,\n",
    "                index=bands)"
   ]
  },
  {
   "cell_type": "code",
   "execution_count": 25,
   "metadata": {},
   "outputs": [],
   "source": [
    "for a in range(0,len(artist_list)):\n",
    "    current_artist = artist_list[a]\n",
    "    df.loc[current_artist.name] = pd.Series({'Spotify Artist Diversity': current_artist.spotify_artist_diversity,\n",
    "               'Touring Artist Diversity': current_artist.touring_artist_diversity,\n",
    "               'Spotify Genre Diversity': current_artist.spotify_genre_diversity,\n",
    "               'Touring Genre Diversity': current_artist.touring_genre_diversity})"
   ]
  },
  {
   "cell_type": "code",
   "execution_count": 26,
   "metadata": {},
   "outputs": [
    {
     "data": {
      "text/html": [
       "<div>\n",
       "<style scoped>\n",
       "    .dataframe tbody tr th:only-of-type {\n",
       "        vertical-align: middle;\n",
       "    }\n",
       "\n",
       "    .dataframe tbody tr th {\n",
       "        vertical-align: top;\n",
       "    }\n",
       "\n",
       "    .dataframe thead th {\n",
       "        text-align: right;\n",
       "    }\n",
       "</style>\n",
       "<table border=\"1\" class=\"dataframe\">\n",
       "  <thead>\n",
       "    <tr style=\"text-align: right;\">\n",
       "      <th></th>\n",
       "      <th>Spotify Artist Diversity</th>\n",
       "      <th>Touring Artist Diversity</th>\n",
       "      <th>Spotify Genre Diversity</th>\n",
       "      <th>Touring Genre Diversity</th>\n",
       "    </tr>\n",
       "  </thead>\n",
       "  <tbody>\n",
       "    <tr>\n",
       "      <th>Papa Roach</th>\n",
       "      <td>38.0</td>\n",
       "      <td>76.0</td>\n",
       "      <td>6.2</td>\n",
       "      <td>7.7</td>\n",
       "    </tr>\n",
       "    <tr>\n",
       "      <th>Bearings</th>\n",
       "      <td>35.0</td>\n",
       "      <td>57.0</td>\n",
       "      <td>7.0</td>\n",
       "      <td>7.0</td>\n",
       "    </tr>\n",
       "    <tr>\n",
       "      <th>Knocked Loose</th>\n",
       "      <td>29.0</td>\n",
       "      <td>102.0</td>\n",
       "      <td>5.0</td>\n",
       "      <td>9.7</td>\n",
       "    </tr>\n",
       "    <tr>\n",
       "      <th>Chevelle</th>\n",
       "      <td>34.0</td>\n",
       "      <td>58.0</td>\n",
       "      <td>6.4</td>\n",
       "      <td>6.9</td>\n",
       "    </tr>\n",
       "    <tr>\n",
       "      <th>Motley Crue</th>\n",
       "      <td>38.0</td>\n",
       "      <td>71.0</td>\n",
       "      <td>5.9</td>\n",
       "      <td>7.4</td>\n",
       "    </tr>\n",
       "    <tr>\n",
       "      <th>Periphery</th>\n",
       "      <td>32.0</td>\n",
       "      <td>80.0</td>\n",
       "      <td>6.3</td>\n",
       "      <td>9.5</td>\n",
       "    </tr>\n",
       "    <tr>\n",
       "      <th>Counterparts</th>\n",
       "      <td>52.0</td>\n",
       "      <td>99.0</td>\n",
       "      <td>7.0</td>\n",
       "      <td>8.9</td>\n",
       "    </tr>\n",
       "    <tr>\n",
       "      <th>Hollywood Undead</th>\n",
       "      <td>59.0</td>\n",
       "      <td>97.0</td>\n",
       "      <td>9.3</td>\n",
       "      <td>9.9</td>\n",
       "    </tr>\n",
       "    <tr>\n",
       "      <th>Machine Gun Kelly</th>\n",
       "      <td>80.0</td>\n",
       "      <td>105.0</td>\n",
       "      <td>8.9</td>\n",
       "      <td>9.8</td>\n",
       "    </tr>\n",
       "    <tr>\n",
       "      <th>Crosses</th>\n",
       "      <td>61.0</td>\n",
       "      <td>106.0</td>\n",
       "      <td>7.6</td>\n",
       "      <td>10.0</td>\n",
       "    </tr>\n",
       "  </tbody>\n",
       "</table>\n",
       "</div>"
      ],
      "text/plain": [
       "                  Spotify Artist Diversity Touring Artist Diversity  \\\n",
       "Papa Roach                            38.0                     76.0   \n",
       "Bearings                              35.0                     57.0   \n",
       "Knocked Loose                         29.0                    102.0   \n",
       "Chevelle                              34.0                     58.0   \n",
       "Motley Crue                           38.0                     71.0   \n",
       "Periphery                             32.0                     80.0   \n",
       "Counterparts                          52.0                     99.0   \n",
       "Hollywood Undead                      59.0                     97.0   \n",
       "Machine Gun Kelly                     80.0                    105.0   \n",
       "Crosses                               61.0                    106.0   \n",
       "\n",
       "                  Spotify Genre Diversity Touring Genre Diversity  \n",
       "Papa Roach                            6.2                     7.7  \n",
       "Bearings                              7.0                     7.0  \n",
       "Knocked Loose                         5.0                     9.7  \n",
       "Chevelle                              6.4                     6.9  \n",
       "Motley Crue                           5.9                     7.4  \n",
       "Periphery                             6.3                     9.5  \n",
       "Counterparts                          7.0                     8.9  \n",
       "Hollywood Undead                      9.3                     9.9  \n",
       "Machine Gun Kelly                     8.9                     9.8  \n",
       "Crosses                               7.6                    10.0  "
      ]
     },
     "execution_count": 26,
     "metadata": {},
     "output_type": "execute_result"
    }
   ],
   "source": [
    "df"
   ]
  },
  {
   "cell_type": "markdown",
   "metadata": {},
   "source": [
    "# V. Discussion"
   ]
  },
  {
   "cell_type": "markdown",
   "metadata": {},
   "source": [
    "By recommending similar artists based on touring history, we were able to increase the diversity and the genre diversity of the artists recommended over those directly presented by Spotify. Tour-based recommendations offer more artists across a broader spectrum of styles. But are these recommendations better from the perspective of the end user? Well, it depends what your point of comparison is.\n",
    "\n",
    "Relative to the related artists feature specifically? I'd say so. But relative to Spotify's overall approach to recommending new music? Definitely not. Spotify is a deeply data-driven company that uses a large multi-faceted algorithm to make recommendations to users. [As of 2015, three major features of the algorithm](https://www.slideshare.net/MrChrisJohnson/from-idea-to-execution-spotifys-discover-weekly/31-1_0_0_0_1) were Implicit Matrix Factorization for crunching user preference and behavioral data, Natural Language Processing to extract cultural and relational metadata from news, blogs, and playlists, and Deep Learning applied to raw audio data to classify songs and artists. I have by no means discovered a magic bullet capable of upending Spotify's cutting-edge algorithm. What I have discovered is a small blindspot.\n",
    "\n",
    "Any algorithm is liable to develop biases, particularly as it expands to include many diverse features and sources of information. In this case, the bias in question is too narrow a view of which artists and genres are related to which within the context of of the related artists feature. From Spotify's perspective, a similar result could plausibly be reached by instead of simply presenting the top 10 related artists, probabalistically presenting 10 related artists from the top 200 weighted by their position on the list. The relative positional weights could then be tuned to balance the diversity and relevance of the recommendations overall.\n",
    "\n",
    "The other advantage of touring-based recommendations is their interpretability. Large algorithms can frequently appear opaque to humans observers, especially if they combine many different sources of information from different domains. Putting together a tour, on the other hand, is a direct function of the music industry, involving artists and other professionals like managers, agents, labels, and venue owners. By deciding which bands should go together on a tour, they contribute to the social construction of which artists are similar to which and what genres they fall into. \n",
    "\n",
    "There are several further developments that would be necessary to take this method from proof-of-concept to a tool that an end-user could feasibly use to discover new artists. The limited download throughput of Setlist.fm's API reflects the fact that they are simply not as large and well-resourced as a company like Spotify. As this project is non-commercial, I decided to stick to the recommended download rate and daily cap. According to their documentation, Setlist.fm may choose to increase the download rate by 8x and the daily cap by 35x by request. However, downloading such a large quantity of data piecemeal through the API is not ideal to begin with. Determining which other artists also performed at the venue and on the date of a given setlist is responsible for the majority of the API requests performed here. [Individual setlist pages](https://www.setlist.fm/setlist/beartooth/2020/o2-academy-bristol-bristol-england-1399bda1.html) will sometimes contain this information, but it is not directly available within a setlist object downloaded from the API. The addition of such a field could greatly improve the performance of the functions that compile the list of tourmates.\n",
    "\n",
    "The other improvement that would be essential is [automatically cross-referencing Spotify and Musicbrainz (Setlist.fm) IDs](https://github.com/metabrainz/mbspotify). As it stands, the method is capable of providing a list of recommendations based on touring history requiring only the Musicbrainz ID of the band in question. However, in order to apply any of the metrics pulled from the Spotify API, the user must also look up and manually enter the IDs for all of the recommended bands. Automatic cross-referencing would remove this burden from the end-user, making the tool much more practical."
   ]
  }
 ],
 "metadata": {
  "kernelspec": {
   "display_name": "Python 3",
   "language": "python",
   "name": "python3"
  },
  "language_info": {
   "codemirror_mode": {
    "name": "ipython",
    "version": 3
   },
   "file_extension": ".py",
   "mimetype": "text/x-python",
   "name": "python",
   "nbconvert_exporter": "python",
   "pygments_lexer": "ipython3",
   "version": "3.8.5"
  }
 },
 "nbformat": 4,
 "nbformat_minor": 4
}
